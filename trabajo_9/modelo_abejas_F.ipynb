{
 "cells": [
  {
   "cell_type": "markdown",
   "id": "d5ada0a8",
   "metadata": {},
   "source": [
    "# Modelo de Enjambre de Abejas - Simulación Bioinspirada\n",
    "\n",
    "## Introducción Teórica\n",
    "\n",
    "El **modelo de enjambre de abejas** es una técnica de optimización inspirada en el comportamiento colectivo de las abejas en la naturaleza.\n",
    "Las abejas exploran el entorno en busca de flores (fuentes de néctar) y comunican a otras miembros del enjambre la calidad y ubicación mediante danzas.\n",
    "Esto permite una **toma de decisiones descentralizada** pero muy eficiente.\n",
    "\n",
    "### Conceptos Clave:\n",
    "- **Exploración y explotación**: equilibrio entre buscar nuevas fuentes y aprovechar las ya conocidas.\n",
    "- **Danza de la abeja**: representa la comunicación del éxito de una fuente.\n",
    "- **Abejas obreras, exploradoras y seguidoras**: cada tipo tiene un rol.\n",
    "- **Colaboración estocástica**: decisiones basadas en probabilidad y memoria local.\n",
    "\n",
    "### Pregunta de Investigación:\n",
    "*¿Cómo el comportamiento cooperativo de un enjambre puede llevar a una solución óptima en la búsqueda de recursos?*\n",
    "\n",
    "---\n"
   ]
  },
  {
   "cell_type": "code",
   "execution_count": null,
   "id": "imports",
   "metadata": {
    "colab": {
     "base_uri": "https://localhost:8080/"
    },
    "id": "imports",
    "outputId": "45796955-9810-4e2b-902f-26a429cf9b94"
   },
   "outputs": [
    {
     "name": "stdout",
     "output_type": "stream",
     "text": [
      "✓ Librerías cargadas exitosamente\n",
      "✓ Configuración de visualización establecida\n"
     ]
    }
   ],
   "source": [
    "# Importamos librerías\n",
    "import numpy as np\n",
    "import matplotlib.pyplot as plt\n",
    "import pandas as pd\n"
   ]
  },
  {
   "cell_type": "markdown",
   "id": "049c828d",
   "metadata": {},
   "source": [
    "## 1. Parámetros del Modelo\n",
    "\n",
    "Definimos los parámetros principales que controlan la simulación del enjambre de abejas:\n",
    "- Número total de abejas\n",
    "- Proporción de abejas exploradoras, obreras y seguidoras\n",
    "- Número de fuentes de néctar\n",
    "- Nivel de calidad de cada fuente (asignado aleatoriamente)\n",
    "- Número de iteraciones (rondas de búsqueda)"
   ]
  },
  {
   "cell_type": "code",
   "execution_count": null,
   "id": "e0a54406",
   "metadata": {},
   "outputs": [],
   "source": [
    "# 1. Parámetros del modelo\n",
    "n_total_abejas = 100\n",
    "proporcion_exploradoras = 0.3\n",
    "proporcion_obreras = 0.5\n",
    "proporcion_seguidoras = 0.2\n",
    "\n",
    "n_exploradoras = int(n_total_abejas * proporcion_exploradoras)\n",
    "n_obreras = int(n_total_abejas * proporcion_obreras)\n",
    "n_seguidoras = n_total_abejas - n_exploradoras - n_obreras\n",
    "\n",
    "n_fuentes = 5\n",
    "calidad_fuentes = np.random.uniform(0.5, 1.0, n_fuentes)  # calidad entre 0.5 y 1.0\n",
    "\n",
    "n_iteraciones = 50\n",
    "print(f\"✓ {n_total_abejas} abejas asignadas: {n_exploradoras} exploradoras, {n_obreras} obreras, {n_seguidoras} seguidoras\")\n",
    "print(f\"✓ Se generaron {n_fuentes} fuentes de néctar con calidad aleatoria\")"
   ]
  },
  {
   "cell_type": "markdown",
   "id": "de5475ce",
   "metadata": {},
   "source": [
    "## 2. Simulación del Enjambre de Abejas\n",
    "\n",
    "Cada abeja toma decisiones basadas en el tipo que le corresponde:\n",
    "\n",
    "- **Exploradoras**: visitan fuentes al azar, descubren nuevas fuentes.\n",
    "- **Obreras**: siguen las mejores fuentes conocidas y recolectan néctar.\n",
    "- **Seguidoras**: eligen fuentes comunicadas por otras abejas, con probabilidad proporcional a la calidad."
   ]
  },
  {
   "cell_type": "code",
   "execution_count": null,
   "id": "7f9e2cf7",
   "metadata": {},
   "outputs": [],
   "source": [
    "# 2. Simulación\n",
    "historial_recolectado = []\n",
    "\n",
    "for iteracion in range(n_iteraciones):\n",
    "    visitas = np.zeros(n_fuentes)\n",
    "\n",
    "    # Exploradoras eligen fuentes al azar\n",
    "    for _ in range(n_exploradoras):\n",
    "        fuente = np.random.randint(0, n_fuentes)\n",
    "        visitas[fuente] += calidad_fuentes[fuente] * 0.5\n",
    "\n",
    "    # Obreras van a las mejores fuentes\n",
    "    mejores_indices = np.argsort(calidad_fuentes)[-2:]\n",
    "    for _ in range(n_obreras):\n",
    "        fuente = np.random.choice(mejores_indices)\n",
    "        visitas[fuente] += calidad_fuentes[fuente]\n",
    "\n",
    "    # Seguidoras eligen fuentes proporcional a la calidad\n",
    "    probabilidades = calidad_fuentes / calidad_fuentes.sum()\n",
    "    for _ in range(n_seguidoras):\n",
    "        fuente = np.random.choice(range(n_fuentes), p=probabilidades)\n",
    "        visitas[fuente] += calidad_fuentes[fuente] * 0.8\n",
    "\n",
    "    historial_recolectado.append(visitas)\n",
    "\n",
    "historial_recolectado = np.array(historial_recolectado)\n",
    "print(\"✓ Simulación completada en\", n_iteraciones, \"iteraciones\")"
   ]
  },
  {
   "cell_type": "markdown",
   "id": "f40e86d7",
   "metadata": {},
   "source": [
    "## 3. Visualización de Resultados\n",
    "\n",
    "Se observa cómo el número de visitas a cada fuente evoluciona a lo largo del tiempo, evidenciando la elección colectiva del mejor recurso."
   ]
  },
  {
   "cell_type": "code",
   "execution_count": null,
   "id": "c97134b7",
   "metadata": {},
   "outputs": [],
   "source": [
    "# 3. Visualización\n",
    "plt.figure(figsize=(10, 6))\n",
    "for i in range(n_fuentes):\n",
    "    plt.plot(historial_recolectado[:, i], label=f\"Fuente {i+1} (calidad: {calidad_fuentes[i]:.2f})\")\n",
    "plt.title(\"Visitas a fuentes de néctar por iteración\")\n",
    "plt.xlabel(\"Iteración\")\n",
    "plt.ylabel(\"Nivel de recolección\")\n",
    "plt.legend()\n",
    "plt.grid(True)\n",
    "plt.show()"
   ]
  },
  {
   "cell_type": "markdown",
   "id": "2e5d1206",
   "metadata": {},
   "source": [
    "## 4. Análisis Estadístico\n",
    "\n",
    "Calculamos la media, desviación estándar y mostramos qué fuente fue la más visitada. También podemos aplicar pruebas estadísticas si se desea."
   ]
  },
  {
   "cell_type": "markdown",
   "id": "bce17c39",
   "metadata": {},
   "source": []
  },
  {
   "cell_type": "code",
   "execution_count": null,
   "id": "0efa106d",
   "metadata": {},
   "outputs": [],
   "source": [
    "# 4. Análisis estadístico\n",
    "import pandas as pd\n",
    "df_resultado = pd.DataFrame(historial_recolectado, columns=[f\"Fuente {i+1}\" for i in range(n_fuentes)])\n",
    "estadisticas = df_resultado.describe().T[['mean', 'std']]\n",
    "estadisticas['total'] = df_resultado.sum()\n",
    "fuente_mas_visitada = estadisticas['total'].idxmax()\n",
    "\n",
    "print(\"\\n✓ Fuente más visitada:\", fuente_mas_visitada)\n",
    "print(estadisticas)"
   ]
  },
  {
   "cell_type": "markdown",
   "id": "f401c665",
   "metadata": {},
   "source": [
    "## 5. Conclusiones\n",
    "\n",
    "- Las abejas logran colectivamente enfocarse en las fuentes de mejor calidad.\n",
    "- A pesar de la aleatoriedad individual, el grupo converge hacia soluciones eficientes.\n",
    "- Este comportamiento puede ser aplicado en problemas de optimización, logística, inteligencia artificial, entre otros.\n",
    "\n",
    "---\n"
   ]
  }
 ],
 "metadata": {
  "colab": {
   "provenance": []
  },
  "kernelspec": {
   "display_name": "Python 3",
   "language": "python",
   "name": "python3"
  },
  "language_info": {
   "codemirror_mode": {
    "name": "ipython",
    "version": 3
   },
   "file_extension": ".py",
   "mimetype": "text/x-python",
   "name": "python",
   "nbconvert_exporter": "python",
   "pygments_lexer": "ipython3",
   "version": "3.8.5"
  }
 },
 "nbformat": 4,
 "nbformat_minor": 5
}
